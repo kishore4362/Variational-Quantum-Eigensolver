{
 "cells": [
  {
   "cell_type": "code",
   "execution_count": 2,
   "id": "8cb70232-d78d-4c26-964a-3c97fd7cad69",
   "metadata": {
    "tags": []
   },
   "outputs": [],
   "source": [
    "# Importing standard Qiskit libraries\n",
    "from qiskit import QuantumCircuit, transpile\n",
    "from qiskit.tools.jupyter import *\n",
    "from qiskit.visualization import *\n",
    "from ibm_quantum_widgets import *\n",
    "\n",
    "# qiskit-ibmq-provider has been deprecated.\n",
    "# Please see the Migration Guides in https://ibm.biz/provider_migration_guide for more detail.\n",
    "from qiskit_ibm_runtime import QiskitRuntimeService, Sampler, Estimator, Session, Options\n",
    "\n",
    "# Loading your IBM Quantum account(s)\n",
    "service = QiskitRuntimeService(channel=\"ibm_quantum\", token='ab8742f91c66720d6b5b8c601a9a34b71d532da0662b1ff604717ad4bea7b5ce9ca2fe2b113baaba7878a4ea0f406578e1958437fd874bd07ff1bf9f3a1f41d1')\n",
    "\n",
    "# Invoke a primitive. For more details see https://qiskit.org/documentation/partners/qiskit_ibm_runtime/tutorials.html\n",
    "# result = Sampler(\"ibmq_qasm_simulator\").run(circuits).result()"
   ]
  },
  {
   "cell_type": "code",
   "execution_count": 3,
   "id": "bdbd162e-da92-4e8a-81ec-afd6d9f6c51c",
   "metadata": {
    "tags": []
   },
   "outputs": [],
   "source": [
    "from qiskit.quantum_info import SparsePauliOp\n",
    "\n",
    "observable = SparsePauliOp.from_list([(\"II\", 2), (\"XX\", -2), (\"YY\", 3), (\"ZZ\", -3)])"
   ]
  },
  {
   "cell_type": "code",
   "execution_count": 4,
   "id": "0ba9d7cc-143d-4d30-a6fc-a5acfbc95d4f",
   "metadata": {
    "tags": []
   },
   "outputs": [],
   "source": [
    "from qiskit.circuit.library import TwoLocal\n",
    "from qiskit.quantum_info import SparsePauliOp\n",
    "from qiskit import QuantumCircuit\n",
    "from qiskit_ibm_runtime import QiskitRuntimeService, Estimator\n",
    "import numpy as np\n",
    "\n",
    "# Add your token below\n",
    "service = QiskitRuntimeService(\n",
    "    channel=\"ibm_quantum\",token= 'ab8742f91c66720d6b5b8c601a9a34b71d532da0662b1ff604717ad4bea7b5ce9ca2fe2b113baaba7878a4ea0f406578e1958437fd874bd07ff1bf9f3a1f41d1'\n",
    ")\n",
    "\n",
    "def cost_function_vqe(theta):\n",
    "    observable = SparsePauliOp.from_list([(\"II\", 2), (\"XX\", -2), (\"YY\", 3), (\"ZZ\", -3)])\n",
    "    reference_circuit = QuantumCircuit(2)\n",
    "    reference_circuit.x(0)\n",
    "\n",
    "    variational_form = TwoLocal(\n",
    "        2,\n",
    "        rotation_blocks=[\"rz\", \"ry\"],\n",
    "        entanglement_blocks=\"cx\",\n",
    "        entanglement=\"linear\",\n",
    "        reps=1,\n",
    "    )\n",
    "    ansatz = reference_circuit.compose(variational_form)\n",
    "\n",
    "    backend = service.backend(\"ibmq_qasm_simulator\")\n",
    "    \n",
    "    # Use estimator to get the expected values corresponding to each ansatz\n",
    "    estimator = Estimator(session=backend)\n",
    "    job = estimator.run(ansatz, observable, theta)\n",
    "    values = job.result().values\n",
    "\n",
    "    return values"
   ]
  },
  {
   "cell_type": "code",
   "execution_count": 5,
   "id": "5ae6043c-840b-4aac-aa28-662e3b5225ba",
   "metadata": {
    "tags": []
   },
   "outputs": [
    {
     "name": "stderr",
     "output_type": "stream",
     "text": [
      "/tmp/ipykernel_95/1267482315.py:1: DeprecationWarning: ``qiskit.algorithms`` has been migrated to an independent package: https://github.com/qiskit-community/qiskit-algorithms. The ``qiskit.algorithms`` import path is deprecated as of qiskit-terra 0.25.0 and will be removed no earlier than 3 months after the release date. Please run ``pip install qiskit_algorithms`` and use ``import qiskit_algorithms`` instead.\n",
      "  from qiskit.algorithms.optimizers import COBYLA\n"
     ]
    },
    {
     "name": "stdout",
     "output_type": "stream",
     "text": [
      "[0.87193914 2.56847261 1.57849379 0.02209362 2.58771475 0.56197077\n",
      " 1.0412457  1.02759041]\n"
     ]
    }
   ],
   "source": [
    "from qiskit.algorithms.optimizers import COBYLA\n",
    "\n",
    "initial_theta = np.ones(8)\n",
    "optimizer = COBYLA()\n",
    "\n",
    "optimizer_result = optimizer.minimize(fun=cost_function_vqe, x0=initial_theta)\n",
    "\n",
    "optimal_parameters = optimizer_result.x\n",
    "print(optimal_parameters)"
   ]
  },
  {
   "cell_type": "code",
   "execution_count": 6,
   "id": "e6622270-0e5e-4333-89c3-7f0d136f8937",
   "metadata": {
    "tags": []
   },
   "outputs": [
    {
     "name": "stdout",
     "output_type": "stream",
     "text": [
      "-5.9985\n"
     ]
    }
   ],
   "source": [
    "observable = SparsePauliOp.from_list([(\"II\", 2), (\"XX\", -2), (\"YY\", 3), (\"ZZ\", -3)])\n",
    "reference_circuit = QuantumCircuit(2)\n",
    "reference_circuit.x(0)\n",
    "\n",
    "variational_form = TwoLocal(\n",
    "    2,\n",
    "    rotation_blocks=[\"rz\", \"ry\"],\n",
    "    entanglement_blocks=\"cx\",\n",
    "    entanglement=\"linear\",\n",
    "    reps=1,\n",
    ")\n",
    "ansatz = reference_circuit.compose(variational_form)\n",
    "solution = ansatz.bind_parameters(optimal_parameters)\n",
    "\n",
    "backend = service.backend(\"ibmq_qasm_simulator\")\n",
    "estimator = Estimator(session=backend)\n",
    "job = estimator.run(solution, observable)\n",
    "values = job.result().values\n",
    "\n",
    "experimental_min_eigenvalue = values[0]\n",
    "print(experimental_min_eigenvalue)"
   ]
  },
  {
   "cell_type": "code",
   "execution_count": 7,
   "id": "cfce742e-ad8e-468d-b29f-8646f79c808c",
   "metadata": {
    "tags": []
   },
   "outputs": [
    {
     "name": "stdout",
     "output_type": "stream",
     "text": [
      "Percent error: 2.50e-04\n"
     ]
    }
   ],
   "source": [
    "from numpy.linalg import eigvalsh\n",
    "\n",
    "solution_eigenvalue = min(eigvalsh(observable.to_matrix()))\n",
    "print(\n",
    "    f\"Percent error: {abs((experimental_min_eigenvalue - solution_eigenvalue)/solution_eigenvalue):.2e}\"\n",
    ")"
   ]
  },
  {
   "cell_type": "code",
   "execution_count": null,
   "id": "dc649903-278d-48a4-b0ec-4cda33fb4ede",
   "metadata": {},
   "outputs": [],
   "source": []
  }
 ],
 "metadata": {
  "kernelspec": {
   "display_name": "Python 3 (ipykernel)",
   "language": "python",
   "name": "python3"
  },
  "language_info": {
   "codemirror_mode": {
    "name": "ipython",
    "version": 3
   },
   "file_extension": ".py",
   "mimetype": "text/x-python",
   "name": "python",
   "nbconvert_exporter": "python",
   "pygments_lexer": "ipython3",
   "version": "3.10.8"
  },
  "widgets": {
   "application/vnd.jupyter.widget-state+json": {
    "state": {
     "1e8cd2b6cf0941f79f5062cbf41a9dfd": {
      "model_module": "@jupyter-widgets/controls",
      "model_module_version": "2.0.0",
      "model_name": "HTMLModel",
      "state": {
       "layout": "IPY_MODEL_60ee98445b8f459db1ed2f62e41b27dc",
       "style": "IPY_MODEL_8d69c51dad2d4169af1a1a82962529f1",
       "value": "<h5>Job ID</h5>"
      }
     },
     "2398a357e59a4ac09096a08f341f44c2": {
      "model_module": "@jupyter-widgets/controls",
      "model_module_version": "2.0.0",
      "model_name": "HTMLModel",
      "state": {
       "layout": "IPY_MODEL_a27fd3b5a29341c3ad107a9ef7bc4514",
       "style": "IPY_MODEL_29b64b69671442b28587e0e4bae91e31",
       "value": "<h5>Queue</h5>"
      }
     },
     "24ebf9a251aa4dfca084df4ca9f5b911": {
      "model_module": "@jupyter-widgets/controls",
      "model_module_version": "2.0.0",
      "model_name": "ButtonModel",
      "state": {
       "button_style": "primary",
       "description": "Clear",
       "layout": "IPY_MODEL_b4a70548f6f24e46941f95de6a6a36c2",
       "style": "IPY_MODEL_2a1359d8b20346779b8f79830add00ec",
       "tooltip": null
      }
     },
     "28467f446bc04631b66dabdba1f29b04": {
      "model_module": "@jupyter-widgets/base",
      "model_module_version": "2.0.0",
      "model_name": "LayoutModel",
      "state": {}
     },
     "29b64b69671442b28587e0e4bae91e31": {
      "model_module": "@jupyter-widgets/controls",
      "model_module_version": "2.0.0",
      "model_name": "HTMLStyleModel",
      "state": {
       "description_width": "",
       "font_size": null,
       "text_color": null
      }
     },
     "2a1359d8b20346779b8f79830add00ec": {
      "model_module": "@jupyter-widgets/controls",
      "model_module_version": "2.0.0",
      "model_name": "ButtonStyleModel",
      "state": {
       "font_family": null,
       "font_size": null,
       "font_style": null,
       "font_variant": null,
       "font_weight": null,
       "text_color": null,
       "text_decoration": null
      }
     },
     "31468e7806624d97b762025a1256bf14": {
      "model_module": "@jupyter-widgets/base",
      "model_module_version": "2.0.0",
      "model_name": "LayoutModel",
      "state": {
       "width": "95px"
      }
     },
     "3b7b233fcb44440e886886481912ece7": {
      "model_module": "@jupyter-widgets/controls",
      "model_module_version": "2.0.0",
      "model_name": "HTMLModel",
      "state": {
       "layout": "IPY_MODEL_31468e7806624d97b762025a1256bf14",
       "style": "IPY_MODEL_b171f14e61264ed3abeccc11fd311cb5",
       "value": "<h5>Status</h5>"
      }
     },
     "502739ef62c5427e90abcdcdc37e76c4": {
      "model_module": "@jupyter-widgets/controls",
      "model_module_version": "2.0.0",
      "model_name": "HTMLModel",
      "state": {
       "layout": "IPY_MODEL_28467f446bc04631b66dabdba1f29b04",
       "style": "IPY_MODEL_f0104f1ee6224d4b8da78a8c0a18024a",
       "value": "<h5>Message</h5>"
      }
     },
     "57c4805fe4b8448fbb70c7416bc14f21": {
      "model_module": "@jupyter-widgets/base",
      "model_module_version": "2.0.0",
      "model_name": "LayoutModel",
      "state": {
       "grid_template_areas": "\n                                       \". . . . right \"\n                                        ",
       "grid_template_columns": "20% 20% 20% 20% 20%",
       "width": "100%"
      }
     },
     "5d7f307e7f8347d28f7e7d48ccdec965": {
      "model_module": "@jupyter-widgets/controls",
      "model_module_version": "2.0.0",
      "model_name": "HTMLStyleModel",
      "state": {
       "description_width": "",
       "font_size": null,
       "text_color": null
      }
     },
     "60ee98445b8f459db1ed2f62e41b27dc": {
      "model_module": "@jupyter-widgets/base",
      "model_module_version": "2.0.0",
      "model_name": "LayoutModel",
      "state": {
       "width": "190px"
      }
     },
     "7e4b3be6572d4cfa81413d6629b43e07": {
      "model_module": "@jupyter-widgets/base",
      "model_module_version": "2.0.0",
      "model_name": "LayoutModel",
      "state": {
       "width": "145px"
      }
     },
     "8b4132c0bef049cb94c8b174ea3a8c4a": {
      "model_module": "@jupyter-widgets/controls",
      "model_module_version": "2.0.0",
      "model_name": "HBoxModel",
      "state": {
       "children": [
        "IPY_MODEL_1e8cd2b6cf0941f79f5062cbf41a9dfd",
        "IPY_MODEL_8b7c6e6385704e13a18deedbb58b5e81",
        "IPY_MODEL_3b7b233fcb44440e886886481912ece7",
        "IPY_MODEL_2398a357e59a4ac09096a08f341f44c2",
        "IPY_MODEL_502739ef62c5427e90abcdcdc37e76c4"
       ],
       "layout": "IPY_MODEL_e7fd5aba9a2d4fcb808b3e431a3eb617"
      }
     },
     "8b7c6e6385704e13a18deedbb58b5e81": {
      "model_module": "@jupyter-widgets/controls",
      "model_module_version": "2.0.0",
      "model_name": "HTMLModel",
      "state": {
       "layout": "IPY_MODEL_7e4b3be6572d4cfa81413d6629b43e07",
       "style": "IPY_MODEL_dd720f05dc1b44468f15e2ecf935d65e",
       "value": "<h5>Backend</h5>"
      }
     },
     "8d69c51dad2d4169af1a1a82962529f1": {
      "model_module": "@jupyter-widgets/controls",
      "model_module_version": "2.0.0",
      "model_name": "HTMLStyleModel",
      "state": {
       "description_width": "",
       "font_size": null,
       "text_color": null
      }
     },
     "a27fd3b5a29341c3ad107a9ef7bc4514": {
      "model_module": "@jupyter-widgets/base",
      "model_module_version": "2.0.0",
      "model_name": "LayoutModel",
      "state": {
       "width": "70px"
      }
     },
     "b171f14e61264ed3abeccc11fd311cb5": {
      "model_module": "@jupyter-widgets/controls",
      "model_module_version": "2.0.0",
      "model_name": "HTMLStyleModel",
      "state": {
       "description_width": "",
       "font_size": null,
       "text_color": null
      }
     },
     "b4a70548f6f24e46941f95de6a6a36c2": {
      "model_module": "@jupyter-widgets/base",
      "model_module_version": "2.0.0",
      "model_name": "LayoutModel",
      "state": {
       "grid_area": "right",
       "padding": "0px 0px 0px 0px",
       "width": "70px"
      }
     },
     "dd720f05dc1b44468f15e2ecf935d65e": {
      "model_module": "@jupyter-widgets/controls",
      "model_module_version": "2.0.0",
      "model_name": "HTMLStyleModel",
      "state": {
       "description_width": "",
       "font_size": null,
       "text_color": null
      }
     },
     "dfac9fbe6609460484fdbc7b2e84eb40": {
      "model_module": "@jupyter-widgets/controls",
      "model_module_version": "2.0.0",
      "model_name": "GridBoxModel",
      "state": {
       "children": [
        "IPY_MODEL_24ebf9a251aa4dfca084df4ca9f5b911"
       ],
       "layout": "IPY_MODEL_57c4805fe4b8448fbb70c7416bc14f21"
      }
     },
     "e7fd5aba9a2d4fcb808b3e431a3eb617": {
      "model_module": "@jupyter-widgets/base",
      "model_module_version": "2.0.0",
      "model_name": "LayoutModel",
      "state": {
       "margin": "0px 0px 0px 37px",
       "width": "600px"
      }
     },
     "f0104f1ee6224d4b8da78a8c0a18024a": {
      "model_module": "@jupyter-widgets/controls",
      "model_module_version": "2.0.0",
      "model_name": "HTMLStyleModel",
      "state": {
       "description_width": "",
       "font_size": null,
       "text_color": null
      }
     },
     "f7c203e5873746508ca1915bc0f932c9": {
      "model_module": "@jupyter-widgets/base",
      "model_module_version": "2.0.0",
      "model_name": "LayoutModel",
      "state": {
       "margin": "0px 0px 10px 0px"
      }
     },
     "fb16d1f96c594ecf859364664069bdd4": {
      "model_module": "@jupyter-widgets/controls",
      "model_module_version": "2.0.0",
      "model_name": "HTMLModel",
      "state": {
       "layout": "IPY_MODEL_f7c203e5873746508ca1915bc0f932c9",
       "style": "IPY_MODEL_5d7f307e7f8347d28f7e7d48ccdec965",
       "value": "<p style='font-family: IBM Plex Sans, Arial, Helvetica, sans-serif; font-size: 20px; font-weight: medium;'>Circuit Properties</p>"
      }
     }
    },
    "version_major": 2,
    "version_minor": 0
   }
  }
 },
 "nbformat": 4,
 "nbformat_minor": 5
}
